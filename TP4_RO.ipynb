{
 "cells": [
  {
   "cell_type": "markdown",
   "metadata": {},
   "source": [
    "<center>\n",
    "<h1> TP 4 : Programmation Dynamique </h1>\n",
    "<h1> Année 2021-2022 - 2e année département Sciences du Numérique </h1>\n",
    "<h1> ANACLET Paul </h1> \n",
    "<h1> BONREPAUX Rémi </h1>    \n",
    "</center>"
   ]
  },
  {
   "cell_type": "markdown",
   "metadata": {},
   "source": [
    "## Récupération des données\n",
    "Cette fonction permet de **lire les données** du fichier passé en paramètre."
   ]
  },
  {
   "cell_type": "code",
   "execution_count": 1,
   "metadata": {},
   "outputs": [
    {
     "data": {
      "text/plain": [
       "readKnaptxtInstance (generic function with 1 method)"
      ]
     },
     "execution_count": 1,
     "metadata": {},
     "output_type": "execute_result"
    }
   ],
   "source": [
    "function readKnaptxtInstance(filename)\n",
    "    price=[]\n",
    "    weight=[]\n",
    "    KnapCap=[]\n",
    "    open(filename) do f\n",
    "        for i in 1:3\n",
    "            tok = split(readline(f))\n",
    "            if(tok[1] == \"ListPrices=\")\n",
    "                for i in 2:(length(tok)-1)\n",
    "                    push!(price,parse(Int64, tok[i]))\n",
    "                end\n",
    "            elseif(tok[1] == \"ListWeights=\")\n",
    "                for i in 2:(length(tok)-1)\n",
    "                    push!(weight,parse(Int64, tok[i]))\n",
    "                end\n",
    "            elseif(tok[1] == \"Capacity=\")\n",
    "                push!(KnapCap, parse(Int64, tok[2]))\n",
    "            else\n",
    "                println(\"Unknown read :\", tok)\n",
    "            end \n",
    "        end\n",
    "    end\n",
    "    capacity=KnapCap[1]\n",
    "    return price, weight, capacity\n",
    "end"
   ]
  },
  {
   "cell_type": "markdown",
   "metadata": {},
   "source": [
    "## Résolution du problème du sac à dos"
   ]
  },
  {
   "cell_type": "markdown",
   "metadata": {},
   "source": [
    "L’algorithme ci-dessous permet de résoudre le problème du sac à dos en utilisant la **programmation dynamique**.\n",
    "En effet, chaque étape correspond à un **sous-problème résolu optimalement**.\n",
    "Les commentaires permettent d'expliquer plus en détail les différentes étapes de cet algorithme."
   ]
  },
  {
   "cell_type": "code",
   "execution_count": 2,
   "metadata": {},
   "outputs": [
    {
     "data": {
      "text/plain": [
       "solveSacADos (generic function with 1 method)"
      ]
     },
     "execution_count": 2,
     "metadata": {},
     "output_type": "execute_result"
    }
   ],
   "source": [
    "function solveSacADos(price, weight, capacity)\n",
    "    nbObjet = length(price)\n",
    "    C = zeros(nbObjet,capacity)\n",
    "    solution_precedente =  Dict()\n",
    "    solution_actuelle=  Dict()\n",
    "    \n",
    "# Initialisation la première ligne du tableau\n",
    "    for j in 1:capacity\n",
    "# Initialisation de la solution \n",
    "        solution_precedente[j] = []\n",
    "        if j-weight[1] >= 0\n",
    "            C[1,j] = price[1]\n",
    "            push!(solution_precedente[j],1)\n",
    "        end\n",
    "    end\n",
    "            \n",
    "# Récurrence\n",
    "    for i in 2:nbObjet      \n",
    "        solution_actuelle = deepcopy(solution_precedente)  \n",
    "        \n",
    "        for j in 1:capacity\n",
    "# Cas 1: l'objet peut rentrer dans le sac\n",
    "            if j-weight[i] >= 0 \n",
    "                if j-weight[i] == 0\n",
    "# Cas 1.1: le poid de l'objet i est exactement la capacité maximale du sac\n",
    "                    C[i,j] = max(C[i-1,j], price[i])\n",
    "# Si on ne prend pas l'objet i, la solution ne change pas. Sinon on ne prend que l'objet i.\n",
    "                    if max(C[i-1,j], price[i]) == price[i] \n",
    "                        solution_actuelle[j] = []\n",
    "                        push!(solution_actuelle[j],i)\n",
    "                    end\n",
    "                else\n",
    "# Cas 1.2: le poid de l'objet i est inférieur à la capacité maximale du sac\n",
    "# Si on ne prend pas l'objet i, la solution ne change pas. Sinon on ajoute à la solution précedente l'objet i.\n",
    "                    if max(C[i-1,j], C[i-1,j-weight[i]] + price[i]) == C[i-1,j-weight[i]] + price[i] \n",
    "                        solution_actuelle[j] = deepcopy(solution_precedente[j-weight[i]])\n",
    "                        push!(solution_actuelle[j],i)\n",
    "                    end\n",
    "                    C[i,j] = max(C[i-1,j], C[i-1,j-weight[i]] + price[i])\n",
    "                end\n",
    "            else\n",
    "# Cas 2: l'objet ne peut pas rentrer dans le sac\n",
    "                C[i,j] = C[i-1,j]\n",
    "            end\n",
    "        end\n",
    "        solution_precedente = deepcopy(solution_actuelle)\n",
    "    end\n",
    "    sol = C[nbObjet,capacity]\n",
    "    \n",
    "    return sol,solution_actuelle[capacity]\n",
    "end"
   ]
  },
  {
   "cell_type": "markdown",
   "metadata": {},
   "source": [
    "Nous aurions pu remplacer le tableau C, de dimension (nbObjet,capacity) par deux vecteurs: un contenant les valeurs précedentes et un autre avec les valeurs actuelles. \n",
    "Cette amélioration **ne change rien à l'algorithme mais aurait permis d'économiser de la mémoire**."
   ]
  },
  {
   "cell_type": "markdown",
   "metadata": {},
   "source": [
    "# Analyse des résultats"
   ]
  },
  {
   "cell_type": "markdown",
   "metadata": {},
   "source": [
    "Le code ci-dessous permet d'obtenir les **résultats** de l'algorithme pour **différentes données**. Il suffit de décommenter le nom des fichiers que nous voulons tester (**et de les récuperer au préalable sur moodle**). \n",
    "\n",
    "L'algorithme renvoi la liste sol où sont énumérés le **numéro des objets à prendre**. \n",
    "La solution s'en déduit directement en remplaçant les indices du vecteur sol par un 1 dans un vecteur nul ( de taille égale au nombre d'objet). \n",
    "Nous avons choisis de représenter la solution ainsi car ce vecteur est plus visuel, et il est plus facile de comparer les résultats avec le TP précedent. \n",
    "\n",
    "D'un coté, les **résultats sont cohérents** et l'algorithme est **plus simple à implanté** que celui du TP précedent. \n",
    "En revanche, cet algorithme nécessite en géneral **plus d'itérations** pour trouver la solution ce qui engendre un **temps d'éxecution est supérieur**. De plus, de nombreuses solutions existent pour optmiser la stratégie d'exploration des noeuds pour le BAB et nous avons vu que des solveurs performant n'avaient besoin que d'une ou deux itérations pour résoudre le problème du sac à dos. En revanche, il est **plus difficile d'optimiser cet algorithme dynamique**, puisque le nombre d'itération est fixé (en fonction de la capacité).\n"
   ]
  },
  {
   "cell_type": "code",
   "execution_count": 3,
   "metadata": {},
   "outputs": [
    {
     "name": "stdout",
     "output_type": "stream",
     "text": [
      " _______________________     Test test.opb.txt    ______________________\n",
      "  0.466096 seconds (235.74 k allocations: 13.616 MiB, 99.84% compilation time)\n",
      "\n",
      " MAXIMUM = 65.0\n",
      " solution = Any[2, 4]\n",
      "\n",
      "\n",
      " _______________________     Test almost_strongly_correlated/knapPI_5_50_1000_1_-2096.opb.txt    ______________________\n",
      "  0.275306 seconds (816.14 k allocations: 45.548 MiB, 5.44% gc time, 6.59% compilation time)\n",
      "\n",
      " MAXIMUM = 2096.0\n",
      " solution = Any[7, 11, 14, 24, 26, 36, 37, 38, 39, 45, 49]\n",
      "\n",
      "\n",
      " _______________________     Test circle/knapPI_16_20_1000_1_-2291.opb.txt    ______________________\n",
      "  0.076145 seconds (283.25 k allocations: 15.792 MiB, 15.23% gc time)\n",
      "\n",
      " MAXIMUM = 2291.0\n",
      " solution = Any[3, 6, 15, 17]\n",
      "\n",
      "\n",
      " _______________________     Test inverse_strongly_correlated/knapPI_4_50_1000_1_-994.opb.txt    ______________________\n",
      "  0.226400 seconds (736.37 k allocations: 38.708 MiB)\n",
      "\n",
      " MAXIMUM = 994.0\n",
      " solution = Any[38]\n",
      "\n",
      "\n",
      " _______________________     Test profit_ceiling/knapPI_15_20_1000_5_-969.opb.txt    ______________________\n",
      "  0.467568 seconds (1.47 M allocations: 84.440 MiB, 4.72% gc time)\n",
      "\n",
      " MAXIMUM = 981.0\n",
      " solution = Any[1, 15, 27, 47, 52, 64, 69, 75, 90, 91, 93, 100]\n",
      "\n",
      "\n",
      " _______________________     Test similar_weights/knapPI_9_50_1000_1_-995.opb.txt    ______________________\n",
      " 18.353596 seconds (50.68 M allocations: 2.442 GiB, 11.50% gc time)\n",
      "\n",
      " MAXIMUM = 995.0\n",
      " solution = Any[29]\n",
      "\n",
      "\n",
      " _______________________     Test strongly_correlated/knapPI_3_50_1000_1_-1894.opb.txt    ______________________\n",
      "  0.130583 seconds (761.49 k allocations: 43.078 MiB)\n",
      "\n",
      " MAXIMUM = 1894.0\n",
      " solution = Any[2, 13, 20, 21, 25, 27, 30, 44, 47]\n",
      "\n",
      "\n",
      " _______________________     Test subset_sum/knapPI_6_50_1000_1_-994.opb.txt    ______________________\n",
      "  0.212618 seconds (772.47 k allocations: 42.687 MiB, 3.27% gc time)\n",
      "\n",
      " MAXIMUM = 994.0\n",
      " solution = Any[13, 21, 25, 44, 47, 50]\n",
      "\n",
      "\n",
      " _______________________     Test uncorrelated/knapPI_1_50_10000_1_-68946.opb.txt    ______________________\n",
      "  2.166084 seconds (9.36 M allocations: 363.467 MiB, 3.82% gc time)\n",
      "\n",
      " MAXIMUM = 68946.0\n",
      " solution = Any[1, 5, 11, 13, 19, 24, 26, 30, 33, 37, 48]\n",
      "\n",
      "\n"
     ]
    }
   ],
   "source": [
    "#Tests de performance sur les différents jeux de données\n",
    "# Un fichier de chaque dossier\n",
    "test = [\"test.opb.txt\",\"almost_strongly_correlated/knapPI_5_50_1000_1_-2096.opb.txt\",\"circle/knapPI_16_20_1000_1_-2291.opb.txt\" ,\n",
    "\"inverse_strongly_correlated/knapPI_4_50_1000_1_-994.opb.txt\",\"profit_ceiling/knapPI_15_20_1000_5_-969.opb.txt\",\"similar_weights/knapPI_9_50_1000_1_-995.opb.txt\",\n",
    "\"strongly_correlated/knapPI_3_50_1000_1_-1894.opb.txt\",\"subset_sum/knapPI_6_50_1000_1_-994.opb.txt\",\"uncorrelated/knapPI_1_50_10000_1_-68946.opb.txt\"] \n",
    "\n",
    "for t in test\n",
    "    price, weight, capacity = readKnaptxtInstance(\"instancesETU/KNAPnewformat/\"*t)\n",
    "\n",
    "    println(\" _______________________     Test \",t,\"    ______________________\")\n",
    "    @time max,sol = solveSacADos(price, weight, capacity)\n",
    "   \n",
    "    println(\"\")\n",
    "    println(\" MAXIMUM = \",  max)\n",
    "    println(\" solution = \",sol)\n",
    "    println(\"\\n\")\n",
    "end\n",
    "\n"
   ]
  },
  {
   "cell_type": "markdown",
   "metadata": {},
   "source": [
    "# Résolution du problème du voyageur"
   ]
  },
  {
   "cell_type": "markdown",
   "metadata": {},
   "source": [
    "Le code ci-dessous permet de résoudre le **problème du voyageur** en utilisant l’algorithme de **Bellman-Ford** vu en cours, permettant de calculer le plus court chemin entre un sommet source s et tous les autres sommets d’un graphe quelconque.\n",
    "\n",
    "Les commentaires permettent d'expliquer en détail les différentes étapes du codes."
   ]
  },
  {
   "cell_type": "code",
   "execution_count": 11,
   "metadata": {},
   "outputs": [
    {
     "data": {
      "text/plain": [
       "bellman_ford (generic function with 1 method)"
      ]
     },
     "execution_count": 11,
     "metadata": {},
     "output_type": "execute_result"
    }
   ],
   "source": [
    "function bellman_ford(Mat,ptsDebut,ptsFinal)\n",
    "# Initialisation vecteur solution \n",
    "    taille = size(Mat, 1)\n",
    "    Sol = zeros(size(Mat, 1)) .+ Inf\n",
    "    Sol[ptsDebut] = 0\n",
    "# Chemin associé au vecteur solution\n",
    "    Chemin = zeros(taille)\n",
    "# Sommet à explorer\n",
    "    explo = ptsDebut\n",
    "\n",
    "# On s'arrete quand on a exploré toutes les solutions et qu'on arrive au point final\n",
    "    while explo != ptsFinal \n",
    "# On itère sur tous les sommets accessibles depuis le sommet à explorer\n",
    "        for i in 1:taille\n",
    "            if i != explo\n",
    "                minimum = min(Sol[explo] + Mat[explo,i], Sol[i])\n",
    "                if minimum != Sol[i]\n",
    "                    Chemin[i] = explo\n",
    "                end\n",
    "                Sol[i] = minimum\n",
    "            end  \n",
    "        end\n",
    "# On change le sommet à explorer\n",
    "        explo = (explo + 1)\n",
    "    end\n",
    "\n",
    "# Remonter pour connaitre le chemin\n",
    "    Chemin = Int.(Chemin)\n",
    "    explo = Chemin[ptsFinal] \n",
    "    CheminStr = string(ptsFinal)\n",
    "    while explo != 0\n",
    "        CheminStr = string(explo, \" -> \",CheminStr )\n",
    "        explo = Chemin[explo]\n",
    "    end\n",
    "    return Sol, CheminStr\n",
    "end"
   ]
  },
  {
   "cell_type": "markdown",
   "metadata": {},
   "source": [
    "La cellule ci-dessous permet de **tester l'algorithme** de Bellman Ford avec les données du cours.\n",
    "Les lettres sont remplacées par des nombres suivant l'ordre alphabétique."
   ]
  },
  {
   "cell_type": "code",
   "execution_count": 14,
   "metadata": {},
   "outputs": [
    {
     "name": "stdout",
     "output_type": "stream",
     "text": [
      "d2d3Coût du chemin :\n",
      "7.0\n",
      "Chemin a prendre:\n",
      "1 -> 2 -> 3\n"
     ]
    }
   ],
   "source": [
    "# Matrice du problème du cours \n",
    "CoutChemin = [0 3 Inf Inf 5 Inf;Inf 0 4 Inf Inf Inf; Inf Inf 0 2 Inf Inf; Inf Inf Inf 0 Inf 3;Inf -1 Inf 9 0 Inf;Inf Inf Inf Inf Inf 0]\n",
    "\n",
    "# A = 1, B = 2 ...\n",
    "ptsDepart = 1\n",
    "ptsFin = 6\n",
    "\n",
    "Sol, CheminStr = bellman_ford(CoutChemin,ptsDepart,ptsFin)\n",
    "\n",
    "\n",
    "println(\"Coût du chemin :\")\n",
    "println(Sol[ptsFin])\n",
    "println(\"Chemin a prendre:\")\n",
    "println(CheminStr)"
   ]
  },
  {
   "cell_type": "markdown",
   "metadata": {},
   "source": [
    "### Amélioration possible:  \n",
    "\n",
    "Afin d'améliorer la robustesse, nous **pourrions vérifier qu'il existe bien un chemin solution** qui mène au point final.\n",
    "De plus, la boucle while, qui part du point de départ et itère jusqu'au point d'arrivé **nécessite que les points soient dans l'ordre croissant** et que le point d'arrivé est le plus grand. Cette contrainte peut-être satisafaite en pratique et permet de faciliter l'implantation de l'algorithme."
   ]
  }
 ],
 "metadata": {
  "kernelspec": {
   "display_name": "Julia 1.6.3",
   "language": "julia",
   "name": "julia-1.6"
  },
  "language_info": {
   "file_extension": ".jl",
   "mimetype": "application/julia",
   "name": "julia",
   "version": "1.6.3"
  }
 },
 "nbformat": 4,
 "nbformat_minor": 4
}
