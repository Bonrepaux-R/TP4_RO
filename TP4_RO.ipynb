{
 "cells": [
  {
   "cell_type": "markdown",
   "metadata": {},
   "source": [
    "# TP 4 : Programmation Dynamique\n",
    "Anaclet Paul  \n",
    "Bonrepaux Rémi  "
   ]
  },
  {
   "cell_type": "markdown",
   "metadata": {},
   "source": [
    "### Récupération des données"
   ]
  },
  {
   "cell_type": "code",
   "execution_count": 43,
   "metadata": {},
   "outputs": [
    {
     "data": {
      "text/plain": [
       "readKnaptxtInstance (generic function with 1 method)"
      ]
     },
     "execution_count": 43,
     "metadata": {},
     "output_type": "execute_result"
    }
   ],
   "source": [
    "function readKnaptxtInstance(filename)\n",
    "    price=[]\n",
    "    weight=[]\n",
    "    KnapCap=[]\n",
    "    open(filename) do f\n",
    "        for i in 1:3\n",
    "            tok = split(readline(f))\n",
    "            if(tok[1] == \"ListPrices=\")\n",
    "                for i in 2:(length(tok)-1)\n",
    "                    push!(price,parse(Int64, tok[i]))\n",
    "                end\n",
    "            elseif(tok[1] == \"ListWeights=\")\n",
    "                for i in 2:(length(tok)-1)\n",
    "                    push!(weight,parse(Int64, tok[i]))\n",
    "                end\n",
    "            elseif(tok[1] == \"Capacity=\")\n",
    "                push!(KnapCap, parse(Int64, tok[2]))\n",
    "            else\n",
    "                println(\"Unknown read :\", tok)\n",
    "            end \n",
    "        end\n",
    "    end\n",
    "    capacity=KnapCap[1]\n",
    "    return price, weight, capacity\n",
    "end"
   ]
  },
  {
   "cell_type": "markdown",
   "metadata": {},
   "source": [
    "## Résolution du problème du sac à dos"
   ]
  },
  {
   "cell_type": "code",
   "execution_count": 44,
   "metadata": {},
   "outputs": [
    {
     "data": {
      "text/plain": [
       "solveSacADos (generic function with 1 method)"
      ]
     },
     "execution_count": 44,
     "metadata": {},
     "output_type": "execute_result"
    }
   ],
   "source": [
    "function solveSacADos(price, weight, capacity)\n",
    "    nbObjet = length(price)\n",
    "    C = zeros(nbObjet,capacity)\n",
    "    for i in 2:nbObjet\n",
    "        for j in 2:capacity\n",
    "            if j-weight[i] >= 1\n",
    "                C[i,j] = max(C[i-1,j], C[i-1,j-weight[i]] + price[i])\n",
    "            else\n",
    "                C[i,j] = C[i-1,j]\n",
    "            end\n",
    "        end\n",
    "    end\n",
    "    \n",
    "    #TODO renvoyer \n",
    "    sol = C\n",
    "    \n",
    "    return sol\n",
    "end"
   ]
  },
  {
   "cell_type": "code",
   "execution_count": 53,
   "metadata": {},
   "outputs": [
    {
     "name": "stdout",
     "output_type": "stream",
     "text": [
      "[0.0 0.0 0.0 0.0 0.0 0.0 0.0 0.0 0.0 0.0; 0.0 0.0 0.0 0.0 40.0 40.0 40.0 40.0 40.0 40.0; 0.0 0.0 0.0 12.0 40.0 40.0 40.0 52.0 52.0 52.0; 0.0 0.0 0.0 12.0 40.0 40.0 40.0 52.0 52.0 65.0]\n",
      "Valeur max des objets transporté :\n",
      "65.0\n"
     ]
    }
   ],
   "source": [
    "#Test\n",
    "price, weight, capacity = readKnaptxtInstance(\"test.opb.txt\")\n",
    "sol = solveSacADos(price, weight, capacity)\n",
    "\n",
    "#=\n",
    "ListPrices= 42 40 12 25 ;\n",
    "ListWeights= 7 4 3 5 ;=#\n",
    "\n",
    "println(sol)\n",
    "println(\"Valeur max des objets transporté :\")\n",
    "println(sol[length(price),capacity])"
   ]
  },
  {
   "cell_type": "markdown",
   "metadata": {},
   "source": [
    "## Résolution du problème du voyageur"
   ]
  },
  {
   "cell_type": "code",
   "execution_count": 55,
   "metadata": {},
   "outputs": [
    {
     "data": {
      "text/plain": [
       "bellman_ford (generic function with 1 method)"
      ]
     },
     "execution_count": 55,
     "metadata": {},
     "output_type": "execute_result"
    }
   ],
   "source": [
    "function bellman_ford(Mat,ptsDebut,ptsFinal)\n",
    "    # initialisation vecteur solution \n",
    "    taille = size(Mat, 1)\n",
    "    Sol = zeros(size(Mat, 1)) .+ Inf\n",
    "    Sol[ptsDebut] = 0\n",
    "    # Chemin associer au vecteur solution\n",
    "    Chemin = zeros(taille)\n",
    "\n",
    "    #Sommet à exploré\n",
    "    explo = ptsDebut\n",
    "\n",
    "    #On s'arrete quand on a un chemin qui va au point finale (le chemin pour aller à F != Inf)\n",
    "    while Sol[ptsFinal] == Inf \n",
    "        #On itére sur tout les sommets accèssible depuis le sommet à explorer\n",
    "        for i in 1:taille\n",
    "            if i != explo\n",
    "                minimum = min(Sol[explo] + Mat[explo,i], Sol[i])\n",
    "                if minimum != Sol[i]\n",
    "                    Chemin[i] = explo\n",
    "                end\n",
    "                Sol[i] = minimum\n",
    "            end\n",
    "            \n",
    "        end\n",
    "\n",
    "        #On change le sommet à explorer\n",
    "        explo = (explo + 1)\n",
    "        if explo%taille == 0\n",
    "            explo = explo % taille + 1\n",
    "        end\n",
    "    end\n",
    "\n",
    "\n",
    "    #Remonter pour connaitre le chemin\n",
    "    Chemin = Int.(Chemin)\n",
    "    explo = Chemin[ptsFinal] #point finale\n",
    "    CheminStr = string(ptsFinal)\n",
    "    while explo != 0\n",
    "        CheminStr = string(explo, \" -> \",CheminStr )\n",
    "        explo = Chemin[explo]\n",
    "    end\n",
    "    return Sol, CheminStr\n",
    "end"
   ]
  },
  {
   "cell_type": "code",
   "execution_count": 63,
   "metadata": {},
   "outputs": [],
   "source": [
    "# Matrice du problème du cours \n",
    "CoutChemin = [0 3 Inf Inf 5 Inf;Inf 0 4 Inf Inf Inf; Inf Inf 0 2 Inf Inf; Inf Inf Inf 0 Inf 3;Inf -1 Inf 9 0 Inf;Inf Inf Inf Inf Inf 0]\n",
    "\n",
    "# A = 1, B = 2 ...\n",
    "ptsDepart = 1\n",
    "ptsFin = 6\n",
    "\n",
    "Sol, CheminStr = bellman_ford(CoutChemin,ptsDepart,ptsFin)\n",
    "\n",
    "\n",
    "println(\"Coût du chemin :\")\n",
    "println(Sol[ptsFin])\n",
    "println(\"Chemin a prendre:\")\n",
    "println(CheminStr)"
   ]
  },
  {
   "cell_type": "markdown",
   "metadata": {},
   "source": [
    "#### Amélioration possible:  \n",
    "On pourrait améliorer la robustesse par exemple vérifier qu'il y a bien un chemin qui mène au point finale.  \n",
    "On s'arrete quand la valeur pour arriver au point d'arriver n'est plus infinie. Cependant, rien ne garantie que se soit la meilleur.  "
   ]
  }
 ],
 "metadata": {
  "kernelspec": {
   "display_name": "Julia 1.7.0",
   "language": "julia",
   "name": "julia-1.7"
  },
  "language_info": {
   "file_extension": ".jl",
   "mimetype": "application/julia",
   "name": "julia",
   "version": "1.7.0"
  }
 },
 "nbformat": 4,
 "nbformat_minor": 4
}
